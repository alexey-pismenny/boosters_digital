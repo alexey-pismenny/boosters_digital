{
 "cells": [
  {
   "cell_type": "code",
   "execution_count": 1,
   "metadata": {},
   "outputs": [],
   "source": [
    "import numpy as np"
   ]
  },
  {
   "cell_type": "markdown",
   "metadata": {},
   "source": [
    "Загрузим данные"
   ]
  },
  {
   "cell_type": "code",
   "execution_count": 2,
   "metadata": {},
   "outputs": [],
   "source": [
    "d_train, d_test = {}, {}"
   ]
  },
  {
   "cell_type": "code",
   "execution_count": 3,
   "metadata": {},
   "outputs": [],
   "source": [
    "with open('digital_reputation_challenge_train/train/Y.csv', 'r') as f:\n",
    "    for line in f:\n",
    "        if 'id' in line:\n",
    "            continue\n",
    "        lst = line[:-1].split(',')\n",
    "        d_train[lst[0]] = [np.array([float(s) for s in lst[1:]])]"
   ]
  },
  {
   "cell_type": "code",
   "execution_count": 4,
   "metadata": {},
   "outputs": [],
   "source": [
    "with open('digital_reputation_challenge_train/train/X2.csv', 'r') as g:\n",
    "    for line in g:\n",
    "        if 'id' in line:\n",
    "            continue\n",
    "        idx, site = line[:-1].split(',')\n",
    "        d_train[idx].append(site)"
   ]
  },
  {
   "cell_type": "code",
   "execution_count": 5,
   "metadata": {},
   "outputs": [],
   "source": [
    "with open('digital_reputation_challenge_test/test/X2.csv', 'r') as f:\n",
    "    for line in f:\n",
    "        if 'id' in line:\n",
    "            continue\n",
    "        idx, site = line[:-1].split(',')\n",
    "        if idx not in d_test.keys():\n",
    "            d_test[idx] = [site]\n",
    "        else:\n",
    "            d_test[idx].append(site)"
   ]
  },
  {
   "cell_type": "code",
   "execution_count": 6,
   "metadata": {},
   "outputs": [
    {
     "data": {
      "text/plain": [
       "[array([1., 1., 0., 0., 1.]), '5', '70340', '72868', '73471']"
      ]
     },
     "execution_count": 6,
     "metadata": {},
     "output_type": "execute_result"
    }
   ],
   "source": [
    "d_train['3'][:5]"
   ]
  },
  {
   "cell_type": "code",
   "execution_count": 7,
   "metadata": {},
   "outputs": [
    {
     "data": {
      "text/plain": [
       "['3516', '159588', '146272', '139933', '139877']"
      ]
     },
     "execution_count": 7,
     "metadata": {},
     "output_type": "execute_result"
    }
   ],
   "source": [
    "d_test['0'][:5]"
   ]
  },
  {
   "cell_type": "markdown",
   "metadata": {},
   "source": [
    "Посчитаем результат и сохраним его\n",
    "\n",
    "Алгоритм такой: для каждого объекта тестовой выборки ответ (вектор из 5 чисел) - Y усредненный с весами по всем объектам обучающей выборки, вес равен количеству значений из X2, по которым они пересекаются (объект из test и из train)"
   ]
  },
  {
   "cell_type": "code",
   "execution_count": 8,
   "metadata": {},
   "outputs": [],
   "source": [
    "with open('sub.csv', 'w') as g:\n",
    "    for test_id in d_test.keys():\n",
    "        num = 0.\n",
    "        res = np.array([0., 0., 0., 0., 0.])\n",
    "        for train_id in d_train.keys():\n",
    "            common_num = len(set(d_train[train_id][1:]) & set(d_test[test_id]))\n",
    "            res += d_train[train_id][0] * common_num\n",
    "            num += common_num\n",
    "        if num < 1:\n",
    "            g.write(str(test_id)+','+','.join(['0.5'] * 5) + '\\n')\n",
    "        else:\n",
    "            res /= num\n",
    "            g.write(str(test_id)+','+','.join([str(v) for v in res.tolist()]) + '\\n')"
   ]
  }
 ],
 "metadata": {
  "kernelspec": {
   "display_name": "Python 3",
   "language": "python",
   "name": "python3"
  },
  "language_info": {
   "codemirror_mode": {
    "name": "ipython",
    "version": 3
   },
   "file_extension": ".py",
   "mimetype": "text/x-python",
   "name": "python",
   "nbconvert_exporter": "python",
   "pygments_lexer": "ipython3",
   "version": "3.6.8"
  }
 },
 "nbformat": 4,
 "nbformat_minor": 2
}