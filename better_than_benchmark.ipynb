{
 "cells": [
  {
   "cell_type": "code",
   "execution_count": 11,
   "metadata": {},
   "outputs": [],
   "source": [
    "import numpy as np\n",
    "import math"
   ]
  },
  {
   "cell_type": "markdown",
   "metadata": {},
   "source": [
    "Загрузим данные"
   ]
  },
  {
   "cell_type": "code",
   "execution_count": 12,
   "metadata": {},
   "outputs": [],
   "source": [
    "d_train, d_test = {}, {}\n",
    "all_urls = []\n",
    "all_urls_num = 0"
   ]
  },
  {
   "cell_type": "code",
   "execution_count": 13,
   "metadata": {},
   "outputs": [],
   "source": [
    "with open('digital_reputation_challenge_train/train/Y.csv', 'r') as f:\n",
    "    for line in f:\n",
    "        if 'id' in line:\n",
    "            continue\n",
    "        lst = line[:-1].split(',')\n",
    "        d_train[lst[0]] = [np.array([float(s) for s in lst[1:]])]"
   ]
  },
  {
   "cell_type": "code",
   "execution_count": 14,
   "metadata": {},
   "outputs": [],
   "source": [
    "with open('digital_reputation_challenge_train/train/X2.csv', 'r') as g:\n",
    "    for line in g:\n",
    "        if 'id' in line:\n",
    "            continue\n",
    "        idx, site = line[:-1].split(',')\n",
    "        d_train[idx].append(site)\n",
    "        all_urls.append(site)\n",
    "        all_urls_num += 1"
   ]
  },
  {
   "cell_type": "code",
   "execution_count": 15,
   "metadata": {},
   "outputs": [],
   "source": [
    "with open('digital_reputation_challenge_test/test/X2.csv', 'r') as f:\n",
    "    for line in f:\n",
    "        if 'id' in line:\n",
    "            continue\n",
    "        idx, site = line[:-1].split(',')\n",
    "        if idx not in d_test.keys():\n",
    "            d_test[idx] = [site]\n",
    "        else:\n",
    "            d_test[idx].append(site)"
   ]
  },
  {
   "cell_type": "code",
   "execution_count": 16,
   "metadata": {},
   "outputs": [
    {
     "data": {
      "text/plain": [
       "[array([1., 1., 0., 0., 1.]), '5', '70340', '72868', '73471']"
      ]
     },
     "execution_count": 16,
     "metadata": {},
     "output_type": "execute_result"
    }
   ],
   "source": [
    "d_train['3'][:5]"
   ]
  },
  {
   "cell_type": "code",
   "execution_count": 17,
   "metadata": {},
   "outputs": [
    {
     "data": {
      "text/plain": [
       "['3516', '159588', '146272', '139933', '139877']"
      ]
     },
     "execution_count": 17,
     "metadata": {},
     "output_type": "execute_result"
    }
   ],
   "source": [
    "d_test['0'][:5]"
   ]
  },
  {
   "cell_type": "code",
   "execution_count": 18,
   "metadata": {},
   "outputs": [],
   "source": [
    "import collections\n",
    "all_urls = collections.Counter(all_urls)"
   ]
  },
  {
   "cell_type": "code",
   "execution_count": 20,
   "metadata": {},
   "outputs": [],
   "source": [
    "with open('sub_2.csv', 'w') as g:\n",
    "    g.write('id,1,2,3,4,5\\n')\n",
    "    for test_id in d_test.keys():\n",
    "        num = 0.\n",
    "        res = np.array([0., 0., 0., 0., 0.])\n",
    "        for train_id in d_train.keys():\n",
    "            common = set(d_train[train_id][1:]) & set(d_test[test_id])\n",
    "            m = 0\n",
    "            for url in common: \n",
    "                m += ((math.log(all_urls_num) - math.log(all_urls[url])) - 6)\n",
    "            res += d_train[train_id][0] * m\n",
    "            num += m\n",
    "        if num < 1:\n",
    "            g.write(str(test_id)+','+','.join(['0.3'] * 5) + '\\n')\n",
    "        else:\n",
    "            res /= num\n",
    "            g.write(str(test_id)+','+','.join([str(v) for v in res.tolist()]) + '\\n')"
   ]
  },
  {
   "cell_type": "code",
   "execution_count": null,
   "metadata": {},
   "outputs": [],
   "source": []
  }
 ],
 "metadata": {
  "kernelspec": {
   "display_name": "Python 3",
   "language": "python",
   "name": "python3"
  },
  "language_info": {
   "codemirror_mode": {
    "name": "ipython",
    "version": 3
   },
   "file_extension": ".py",
   "mimetype": "text/x-python",
   "name": "python",
   "nbconvert_exporter": "python",
   "pygments_lexer": "ipython3",
   "version": "3.6.8"
  }
 },
 "nbformat": 4,
 "nbformat_minor": 2
}
