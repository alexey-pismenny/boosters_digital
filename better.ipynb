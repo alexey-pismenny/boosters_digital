{
 "cells": [
  {
   "cell_type": "code",
   "execution_count": 1,
   "metadata": {},
   "outputs": [],
   "source": [
    "import numpy as np\n",
    "import pandas as pd\n",
    "import math"
   ]
  },
  {
   "cell_type": "code",
   "execution_count": 2,
   "metadata": {},
   "outputs": [],
   "source": [
    "TRAIN_PATH = 'digital_reputation_challenge_train/train/'\n",
    "TEST_PATH = 'digital_reputation_challenge_test/test/'"
   ]
  },
  {
   "cell_type": "markdown",
   "metadata": {},
   "source": [
    "Загрузим данные"
   ]
  },
  {
   "cell_type": "code",
   "execution_count": 3,
   "metadata": {},
   "outputs": [],
   "source": [
    "d_train, d_test = {}, {}\n",
    "all_urls = []\n",
    "all_urls_num = 0"
   ]
  },
  {
   "cell_type": "code",
   "execution_count": 4,
   "metadata": {},
   "outputs": [],
   "source": [
    "with open(TRAIN_PATH + 'Y.csv', 'r') as f:\n",
    "    for line in f:\n",
    "        if 'id' in line:\n",
    "            continue\n",
    "        lst = line[:-1].split(',')\n",
    "        d_train[lst[0]] = [np.array([float(s) for s in lst[1:]])]"
   ]
  },
  {
   "cell_type": "code",
   "execution_count": 5,
   "metadata": {},
   "outputs": [],
   "source": [
    "with open(TRAIN_PATH + 'X2.csv', 'r') as g:\n",
    "    for line in g:\n",
    "        if 'id' in line:\n",
    "            continue\n",
    "        idx, site = line[:-1].split(',')\n",
    "        d_train[idx].append(site)\n",
    "        all_urls.append(site)\n",
    "        all_urls_num += 1"
   ]
  },
  {
   "cell_type": "code",
   "execution_count": 6,
   "metadata": {},
   "outputs": [],
   "source": [
    "with open(TEST_PATH + 'X2.csv', 'r') as f:\n",
    "    for line in f:\n",
    "        if 'id' in line:\n",
    "            continue\n",
    "        idx, site = line[:-1].split(',')\n",
    "        if idx not in d_test.keys():\n",
    "            d_test[idx] = [site]\n",
    "        else:\n",
    "            d_test[idx].append(site)"
   ]
  },
  {
   "cell_type": "code",
   "execution_count": 7,
   "metadata": {},
   "outputs": [],
   "source": [
    "import collections\n",
    "all_urls = collections.Counter(all_urls)"
   ]
  },
  {
   "cell_type": "code",
   "execution_count": null,
   "metadata": {},
   "outputs": [],
   "source": [
    "d = {'id': [], '1': [], '2': [], '3': [], '4': [], '5': []}\n",
    "for test_id in d_test.keys():\n",
    "    num = 0.\n",
    "    res = np.array([0., 0., 0., 0., 0.])\n",
    "    for train_id in d_train.keys():\n",
    "        common = set(d_train[train_id][1:]) & set(d_test[test_id])\n",
    "        m = 0\n",
    "        for url in common: \n",
    "            m += ((math.log(all_urls_num) - math.log(all_urls[url])) - 6)\n",
    "        res += d_train[train_id][0] * m\n",
    "        num += m\n",
    "    d['id'].append(test_id)\n",
    "    if num < 1:\n",
    "        for i in '12345':\n",
    "            d[i].append(0.3)\n",
    "    else:\n",
    "        res /= num\n",
    "        for i in range(1, 6):\n",
    "            d[str(i)].append(res[i - 1])"
   ]
  },
  {
   "cell_type": "code",
   "execution_count": null,
   "metadata": {},
   "outputs": [],
   "source": [
    "first_solution_result = pd.DataFrame(data=d)"
   ]
  },
  {
   "cell_type": "code",
   "execution_count": null,
   "metadata": {},
   "outputs": [],
   "source": [
    "first_solution_result"
   ]
  },
  {
   "cell_type": "code",
   "execution_count": null,
   "metadata": {},
   "outputs": [],
   "source": [
    "from sklearn.metrics import f1_score, roc_auc_score\n",
    "from sklearn.model_selection import (KFold, StratifiedKFold, cross_val_score,\n",
    "                                     cross_validate, train_test_split)\n",
    "from xgboost import XGBClassifier"
   ]
  },
  {
   "cell_type": "code",
   "execution_count": null,
   "metadata": {},
   "outputs": [],
   "source": [
    "X1 = pd.read_csv(TRAIN_PATH + 'X1.csv')\n",
    "X1_test = pd.read_csv(TEST_PATH + 'X1.csv')\n",
    "Y = pd.read_csv(TRAIN_PATH + 'Y.csv')"
   ]
  },
  {
   "cell_type": "code",
   "execution_count": null,
   "metadata": {},
   "outputs": [],
   "source": [
    "X1['2'] = [int(val) for val in X1['2']]\n",
    "X1['3'] = [int(val) for val in X1['3']]\n",
    "X1_test['2'] = [int(val) for val in X1_test['2']]\n",
    "X1_test['3'] = [int(val) for val in X1_test['3']]"
   ]
  },
  {
   "cell_type": "code",
   "execution_count": null,
   "metadata": {},
   "outputs": [],
   "source": [
    "d_mx = {'min_child_samples': 100, 'learning_rate': 0.010, 'max_depth': 3, 'max_delta_step': 2, 'num_leaves': 12, 'min_child_weight': 2, 'n_estimators': 195}\n",
    "d_mx_2 = {'min_child_samples': 100, 'learning_rate': 0.019, 'max_depth': 1, 'max_delta_step': 2, 'num_leaves': 12, 'min_child_weight': 2, 'n_estimators': 200}\n",
    "d_mx_3 = {'min_child_samples': 100, 'learning_rate': 0.012, 'max_depth': 2, 'max_delta_step': 2, 'num_leaves': 12, 'min_child_weight': 2, 'n_estimators': 195}\n",
    "d_mx_4 = {'learning_rate': 0.018, 'max_delta_step': 2, 'max_depth': 1, 'min_child_samples': 150, 'min_child_weight': 7, 'n_estimators': 315, 'num_leaves': 20}"
   ]
  },
  {
   "cell_type": "code",
   "execution_count": null,
   "metadata": {},
   "outputs": [],
   "source": [
    "cls = []\n",
    "cls.append(XGBClassifier(n_jobs=8, random_state=0, objective='rank:pairwise', **d_mx))\n",
    "cls.append(XGBClassifier(n_jobs=8, random_state=0, **d_mx_2))\n",
    "cls.append(XGBClassifier(n_jobs=8, random_state=0, objective='rank:pairwise', **d_mx_3))\n",
    "cls.append(XGBClassifier(n_jobs=8, random_state=0, **d_mx_4))"
   ]
  },
  {
   "cell_type": "code",
   "execution_count": null,
   "metadata": {},
   "outputs": [],
   "source": [
    "probas = []\n",
    "for i in range(4):\n",
    "    cls[i].fit(X1.values, Y[str(i+1)].values)\n",
    "    proba = cls[i].predict_proba(X1_test.values)[:, 1]\n",
    "    probas += [proba]"
   ]
  },
  {
   "cell_type": "code",
   "execution_count": null,
   "metadata": {},
   "outputs": [],
   "source": [
    "second_solution_result = pd.DataFrame(probas).T"
   ]
  },
  {
   "cell_type": "code",
   "execution_count": null,
   "metadata": {},
   "outputs": [],
   "source": [
    "second_solution_result"
   ]
  },
  {
   "cell_type": "code",
   "execution_count": null,
   "metadata": {},
   "outputs": [],
   "source": [
    "coef_list = [0.3, 0.7, 0.3, 0.7]\n",
    "\n",
    "for i in range(4):\n",
    "    \n",
    "    first_lst = first_solution_result[str(i + 1)]\n",
    "    first_np = np.array(first_lst)\n",
    "    first_lst = [(first_np > val).sum() for val in first_lst]\n",
    "\n",
    "    second_lst = second_solution_result[i]\n",
    "    second_np = np.array(second_lst)\n",
    "    second_lst = [(second_np > val).sum() for val in second_lst]\n",
    "    \n",
    "    final_ranks = (1 - (np.array(first_lst) * coef_list[i] + np.array(second_lst) * (1 - coef_list[i])) / 4060).tolist()\n",
    "    first_solution_result[str(i + 1)] = final_ranks"
   ]
  },
  {
   "cell_type": "code",
   "execution_count": null,
   "metadata": {},
   "outputs": [],
   "source": [
    "first_solution_result.to_csv('final.csv', index=False)"
   ]
  },
  {
   "cell_type": "code",
   "execution_count": null,
   "metadata": {},
   "outputs": [],
   "source": []
  }
 ],
 "metadata": {
  "kernelspec": {
   "display_name": "Python 3",
   "language": "python",
   "name": "python3"
  },
  "language_info": {
   "codemirror_mode": {
    "name": "ipython",
    "version": 3
   },
   "file_extension": ".py",
   "mimetype": "text/x-python",
   "name": "python",
   "nbconvert_exporter": "python",
   "pygments_lexer": "ipython3",
   "version": "3.6.8"
  }
 },
 "nbformat": 4,
 "nbformat_minor": 2
}
