{
 "cells": [
  {
   "cell_type": "code",
   "execution_count": 1,
   "metadata": {},
   "outputs": [],
   "source": [
    "import numpy as np\n",
    "import pandas as pd\n",
    "import math"
   ]
  },
  {
   "cell_type": "code",
   "execution_count": 2,
   "metadata": {},
   "outputs": [],
   "source": [
    "TRAIN_PATH = 'digital_reputation_challenge_train/train/'\n",
    "TEST_PATH = 'digital_reputation_challenge_test/test/'"
   ]
  },
  {
   "cell_type": "markdown",
   "metadata": {},
   "source": [
    "Загрузим данные"
   ]
  },
  {
   "cell_type": "code",
   "execution_count": 3,
   "metadata": {},
   "outputs": [],
   "source": [
    "d_train, d_test = {}, {}\n",
    "all_urls = []\n",
    "all_urls_num = 0"
   ]
  },
  {
   "cell_type": "code",
   "execution_count": 4,
   "metadata": {},
   "outputs": [],
   "source": [
    "with open(TRAIN_PATH + 'Y.csv', 'r') as f:\n",
    "    for line in f:\n",
    "        if 'id' in line:\n",
    "            continue\n",
    "        lst = line[:-1].split(',')\n",
    "        d_train[lst[0]] = [np.array([float(s) for s in lst[1:]])]"
   ]
  },
  {
   "cell_type": "code",
   "execution_count": 5,
   "metadata": {},
   "outputs": [],
   "source": [
    "with open(TRAIN_PATH + 'X2.csv', 'r') as g:\n",
    "    for line in g:\n",
    "        if 'id' in line:\n",
    "            continue\n",
    "        idx, site = line[:-1].split(',')\n",
    "        d_train[idx].append(site)\n",
    "        all_urls.append(site)\n",
    "        all_urls_num += 1"
   ]
  },
  {
   "cell_type": "code",
   "execution_count": 6,
   "metadata": {},
   "outputs": [],
   "source": [
    "with open(TEST_PATH + 'X2.csv', 'r') as f:\n",
    "    for line in f:\n",
    "        if 'id' in line:\n",
    "            continue\n",
    "        idx, site = line[:-1].split(',')\n",
    "        if idx not in d_test.keys():\n",
    "            d_test[idx] = [site]\n",
    "        else:\n",
    "            d_test[idx].append(site)"
   ]
  },
  {
   "cell_type": "code",
   "execution_count": 7,
   "metadata": {},
   "outputs": [],
   "source": [
    "import collections\n",
    "all_urls = collections.Counter(all_urls)"
   ]
  },
  {
   "cell_type": "code",
   "execution_count": 8,
   "metadata": {},
   "outputs": [],
   "source": [
    "d = {'id': [], '1': [], '2': [], '3': [], '4': [], '5': []}\n",
    "for test_id in d_test.keys():\n",
    "    num = 0.\n",
    "    res = np.array([0., 0., 0., 0., 0.])\n",
    "    for train_id in d_train.keys():\n",
    "        common = set(d_train[train_id][1:]) & set(d_test[test_id])\n",
    "        m = 0\n",
    "        for url in common: \n",
    "            m += ((math.log(all_urls_num) - math.log(all_urls[url])) - 6)\n",
    "        res += d_train[train_id][0] * m\n",
    "        num += m\n",
    "    d['id'].append(test_id)\n",
    "    if num < 1:\n",
    "        for i in '12345':\n",
    "            d[i].append(0.3)\n",
    "    else:\n",
    "        res /= num\n",
    "        for i in range(1, 6):\n",
    "            d[str(i)].append(res[i - 1])"
   ]
  },
  {
   "cell_type": "code",
   "execution_count": 9,
   "metadata": {},
   "outputs": [],
   "source": [
    "first_solution_result = pd.DataFrame(data=d)"
   ]
  },
  {
   "cell_type": "code",
   "execution_count": 10,
   "metadata": {},
   "outputs": [
    {
     "data": {
      "text/html": [
       "<div>\n",
       "<style scoped>\n",
       "    .dataframe tbody tr th:only-of-type {\n",
       "        vertical-align: middle;\n",
       "    }\n",
       "\n",
       "    .dataframe tbody tr th {\n",
       "        vertical-align: top;\n",
       "    }\n",
       "\n",
       "    .dataframe thead th {\n",
       "        text-align: right;\n",
       "    }\n",
       "</style>\n",
       "<table border=\"1\" class=\"dataframe\">\n",
       "  <thead>\n",
       "    <tr style=\"text-align: right;\">\n",
       "      <th></th>\n",
       "      <th>id</th>\n",
       "      <th>1</th>\n",
       "      <th>2</th>\n",
       "      <th>3</th>\n",
       "      <th>4</th>\n",
       "      <th>5</th>\n",
       "    </tr>\n",
       "  </thead>\n",
       "  <tbody>\n",
       "    <tr>\n",
       "      <td>0</td>\n",
       "      <td>0</td>\n",
       "      <td>0.244429</td>\n",
       "      <td>0.279312</td>\n",
       "      <td>0.296971</td>\n",
       "      <td>0.328332</td>\n",
       "      <td>0.362890</td>\n",
       "    </tr>\n",
       "    <tr>\n",
       "      <td>1</td>\n",
       "      <td>1</td>\n",
       "      <td>0.297182</td>\n",
       "      <td>0.282895</td>\n",
       "      <td>0.330458</td>\n",
       "      <td>0.290513</td>\n",
       "      <td>0.414352</td>\n",
       "    </tr>\n",
       "    <tr>\n",
       "      <td>2</td>\n",
       "      <td>2</td>\n",
       "      <td>0.319323</td>\n",
       "      <td>0.299394</td>\n",
       "      <td>0.297163</td>\n",
       "      <td>0.259389</td>\n",
       "      <td>0.371263</td>\n",
       "    </tr>\n",
       "    <tr>\n",
       "      <td>3</td>\n",
       "      <td>4</td>\n",
       "      <td>0.244553</td>\n",
       "      <td>0.244649</td>\n",
       "      <td>0.381502</td>\n",
       "      <td>0.274347</td>\n",
       "      <td>0.536876</td>\n",
       "    </tr>\n",
       "    <tr>\n",
       "      <td>4</td>\n",
       "      <td>7</td>\n",
       "      <td>0.288297</td>\n",
       "      <td>0.313971</td>\n",
       "      <td>0.389969</td>\n",
       "      <td>0.351190</td>\n",
       "      <td>0.339812</td>\n",
       "    </tr>\n",
       "    <tr>\n",
       "      <td>...</td>\n",
       "      <td>...</td>\n",
       "      <td>...</td>\n",
       "      <td>...</td>\n",
       "      <td>...</td>\n",
       "      <td>...</td>\n",
       "      <td>...</td>\n",
       "    </tr>\n",
       "    <tr>\n",
       "      <td>4053</td>\n",
       "      <td>8046</td>\n",
       "      <td>0.332901</td>\n",
       "      <td>0.344083</td>\n",
       "      <td>0.395553</td>\n",
       "      <td>0.377831</td>\n",
       "      <td>0.358500</td>\n",
       "    </tr>\n",
       "    <tr>\n",
       "      <td>4054</td>\n",
       "      <td>8047</td>\n",
       "      <td>0.290145</td>\n",
       "      <td>0.368577</td>\n",
       "      <td>0.362799</td>\n",
       "      <td>0.395955</td>\n",
       "      <td>0.341957</td>\n",
       "    </tr>\n",
       "    <tr>\n",
       "      <td>4055</td>\n",
       "      <td>8050</td>\n",
       "      <td>0.225583</td>\n",
       "      <td>0.188553</td>\n",
       "      <td>0.406626</td>\n",
       "      <td>0.281559</td>\n",
       "      <td>0.477991</td>\n",
       "    </tr>\n",
       "    <tr>\n",
       "      <td>4056</td>\n",
       "      <td>8054</td>\n",
       "      <td>0.181324</td>\n",
       "      <td>0.112692</td>\n",
       "      <td>0.403090</td>\n",
       "      <td>0.277541</td>\n",
       "      <td>0.509542</td>\n",
       "    </tr>\n",
       "    <tr>\n",
       "      <td>4057</td>\n",
       "      <td>8057</td>\n",
       "      <td>0.330969</td>\n",
       "      <td>0.248387</td>\n",
       "      <td>0.324756</td>\n",
       "      <td>0.254365</td>\n",
       "      <td>0.328086</td>\n",
       "    </tr>\n",
       "  </tbody>\n",
       "</table>\n",
       "<p>4058 rows × 6 columns</p>\n",
       "</div>"
      ],
      "text/plain": [
       "        id         1         2         3         4         5\n",
       "0        0  0.244429  0.279312  0.296971  0.328332  0.362890\n",
       "1        1  0.297182  0.282895  0.330458  0.290513  0.414352\n",
       "2        2  0.319323  0.299394  0.297163  0.259389  0.371263\n",
       "3        4  0.244553  0.244649  0.381502  0.274347  0.536876\n",
       "4        7  0.288297  0.313971  0.389969  0.351190  0.339812\n",
       "...    ...       ...       ...       ...       ...       ...\n",
       "4053  8046  0.332901  0.344083  0.395553  0.377831  0.358500\n",
       "4054  8047  0.290145  0.368577  0.362799  0.395955  0.341957\n",
       "4055  8050  0.225583  0.188553  0.406626  0.281559  0.477991\n",
       "4056  8054  0.181324  0.112692  0.403090  0.277541  0.509542\n",
       "4057  8057  0.330969  0.248387  0.324756  0.254365  0.328086\n",
       "\n",
       "[4058 rows x 6 columns]"
      ]
     },
     "execution_count": 10,
     "metadata": {},
     "output_type": "execute_result"
    }
   ],
   "source": [
    "first_solution_result"
   ]
  },
  {
   "cell_type": "code",
   "execution_count": 11,
   "metadata": {},
   "outputs": [],
   "source": [
    "from sklearn.metrics import f1_score, roc_auc_score\n",
    "from sklearn.model_selection import (KFold, StratifiedKFold, cross_val_score,\n",
    "                                     cross_validate, train_test_split)\n",
    "from xgboost import XGBClassifier"
   ]
  },
  {
   "cell_type": "code",
   "execution_count": 12,
   "metadata": {},
   "outputs": [],
   "source": [
    "X1 = pd.read_csv(TRAIN_PATH + 'X1.csv')\n",
    "X1_test = pd.read_csv(TEST_PATH + 'X1.csv')\n",
    "Y = pd.read_csv(TRAIN_PATH + 'Y.csv')"
   ]
  },
  {
   "cell_type": "code",
   "execution_count": 13,
   "metadata": {},
   "outputs": [],
   "source": [
    "X1['2'] = [int(val) for val in X1['2']]\n",
    "X1['3'] = [int(val) for val in X1['3']]\n",
    "X1_test['2'] = [int(val) for val in X1_test['2']]\n",
    "X1_test['3'] = [int(val) for val in X1_test['3']]"
   ]
  },
  {
   "cell_type": "code",
   "execution_count": 14,
   "metadata": {},
   "outputs": [],
   "source": [
    "d_mx = {'min_child_samples': 100, 'learning_rate': 0.010, 'max_depth': 3, 'max_delta_step': 2, 'num_leaves': 12, 'min_child_weight': 2, 'n_estimators': 195}\n",
    "d_mx_2 = {'min_child_samples': 100, 'learning_rate': 0.019, 'max_depth': 1, 'max_delta_step': 2, 'num_leaves': 12, 'min_child_weight': 2, 'n_estimators': 200}\n",
    "d_mx_3 = {'min_child_samples': 100, 'learning_rate': 0.012, 'max_depth': 2, 'max_delta_step': 2, 'num_leaves': 12, 'min_child_weight': 2, 'n_estimators': 195}\n",
    "d_mx_4 = {'learning_rate': 0.018, 'max_delta_step': 2, 'max_depth': 1, 'min_child_samples': 150, 'min_child_weight': 7, 'n_estimators': 315, 'num_leaves': 20}"
   ]
  },
  {
   "cell_type": "code",
   "execution_count": 15,
   "metadata": {},
   "outputs": [],
   "source": [
    "cls = []\n",
    "cls.append(XGBClassifier(n_jobs=8, random_state=0, objective='rank:pairwise', **d_mx))\n",
    "cls.append(XGBClassifier(n_jobs=8, random_state=0, **d_mx_2))\n",
    "cls.append(XGBClassifier(n_jobs=8, random_state=0, objective='rank:pairwise', **d_mx_3))\n",
    "cls.append(XGBClassifier(n_jobs=8, random_state=0, **d_mx_4))"
   ]
  },
  {
   "cell_type": "code",
   "execution_count": 16,
   "metadata": {},
   "outputs": [],
   "source": [
    "probas = []\n",
    "for i in range(4):\n",
    "    cls[i].fit(X1.values, Y[str(i+1)].values)\n",
    "    proba = cls[i].predict_proba(X1_test.values)[:, 1]\n",
    "    probas += [proba]"
   ]
  },
  {
   "cell_type": "code",
   "execution_count": 17,
   "metadata": {},
   "outputs": [],
   "source": [
    "second_solution_result = pd.DataFrame(probas).T"
   ]
  },
  {
   "cell_type": "code",
   "execution_count": 18,
   "metadata": {},
   "outputs": [
    {
     "data": {
      "text/html": [
       "<div>\n",
       "<style scoped>\n",
       "    .dataframe tbody tr th:only-of-type {\n",
       "        vertical-align: middle;\n",
       "    }\n",
       "\n",
       "    .dataframe tbody tr th {\n",
       "        vertical-align: top;\n",
       "    }\n",
       "\n",
       "    .dataframe thead th {\n",
       "        text-align: right;\n",
       "    }\n",
       "</style>\n",
       "<table border=\"1\" class=\"dataframe\">\n",
       "  <thead>\n",
       "    <tr style=\"text-align: right;\">\n",
       "      <th></th>\n",
       "      <th>0</th>\n",
       "      <th>1</th>\n",
       "      <th>2</th>\n",
       "      <th>3</th>\n",
       "    </tr>\n",
       "  </thead>\n",
       "  <tbody>\n",
       "    <tr>\n",
       "      <td>0</td>\n",
       "      <td>0.584335</td>\n",
       "      <td>0.346478</td>\n",
       "      <td>0.141240</td>\n",
       "      <td>0.275740</td>\n",
       "    </tr>\n",
       "    <tr>\n",
       "      <td>1</td>\n",
       "      <td>0.664818</td>\n",
       "      <td>0.258636</td>\n",
       "      <td>0.244932</td>\n",
       "      <td>0.256850</td>\n",
       "    </tr>\n",
       "    <tr>\n",
       "      <td>2</td>\n",
       "      <td>0.770092</td>\n",
       "      <td>0.437305</td>\n",
       "      <td>0.089138</td>\n",
       "      <td>0.275740</td>\n",
       "    </tr>\n",
       "    <tr>\n",
       "      <td>3</td>\n",
       "      <td>0.463854</td>\n",
       "      <td>0.312374</td>\n",
       "      <td>0.095047</td>\n",
       "      <td>0.263528</td>\n",
       "    </tr>\n",
       "    <tr>\n",
       "      <td>4</td>\n",
       "      <td>0.701586</td>\n",
       "      <td>0.258636</td>\n",
       "      <td>0.785090</td>\n",
       "      <td>0.363445</td>\n",
       "    </tr>\n",
       "    <tr>\n",
       "      <td>...</td>\n",
       "      <td>...</td>\n",
       "      <td>...</td>\n",
       "      <td>...</td>\n",
       "      <td>...</td>\n",
       "    </tr>\n",
       "    <tr>\n",
       "      <td>4053</td>\n",
       "      <td>0.458925</td>\n",
       "      <td>0.276307</td>\n",
       "      <td>0.824031</td>\n",
       "      <td>0.370102</td>\n",
       "    </tr>\n",
       "    <tr>\n",
       "      <td>4054</td>\n",
       "      <td>0.252209</td>\n",
       "      <td>0.344807</td>\n",
       "      <td>0.512855</td>\n",
       "      <td>0.398014</td>\n",
       "    </tr>\n",
       "    <tr>\n",
       "      <td>4055</td>\n",
       "      <td>-0.012030</td>\n",
       "      <td>0.248609</td>\n",
       "      <td>0.495471</td>\n",
       "      <td>0.250037</td>\n",
       "    </tr>\n",
       "    <tr>\n",
       "      <td>4056</td>\n",
       "      <td>0.135481</td>\n",
       "      <td>0.344807</td>\n",
       "      <td>0.647099</td>\n",
       "      <td>0.377602</td>\n",
       "    </tr>\n",
       "    <tr>\n",
       "      <td>4057</td>\n",
       "      <td>0.367596</td>\n",
       "      <td>0.344807</td>\n",
       "      <td>0.512855</td>\n",
       "      <td>0.392819</td>\n",
       "    </tr>\n",
       "  </tbody>\n",
       "</table>\n",
       "<p>4058 rows × 4 columns</p>\n",
       "</div>"
      ],
      "text/plain": [
       "             0         1         2         3\n",
       "0     0.584335  0.346478  0.141240  0.275740\n",
       "1     0.664818  0.258636  0.244932  0.256850\n",
       "2     0.770092  0.437305  0.089138  0.275740\n",
       "3     0.463854  0.312374  0.095047  0.263528\n",
       "4     0.701586  0.258636  0.785090  0.363445\n",
       "...        ...       ...       ...       ...\n",
       "4053  0.458925  0.276307  0.824031  0.370102\n",
       "4054  0.252209  0.344807  0.512855  0.398014\n",
       "4055 -0.012030  0.248609  0.495471  0.250037\n",
       "4056  0.135481  0.344807  0.647099  0.377602\n",
       "4057  0.367596  0.344807  0.512855  0.392819\n",
       "\n",
       "[4058 rows x 4 columns]"
      ]
     },
     "execution_count": 18,
     "metadata": {},
     "output_type": "execute_result"
    }
   ],
   "source": [
    "second_solution_result"
   ]
  },
  {
   "cell_type": "code",
   "execution_count": 19,
   "metadata": {},
   "outputs": [],
   "source": [
    "coef_list = [0.3, 0.7, 0.3, 0.7]\n",
    "\n",
    "for i in range(4):\n",
    "    \n",
    "    first_lst = first_solution_result[str(i + 1)]\n",
    "    first_np = np.array(first_lst)\n",
    "    first_lst = [(first_np > val).sum() for val in first_lst]\n",
    "\n",
    "    second_lst = second_solution_result[i]\n",
    "    second_np = np.array(second_lst)\n",
    "    second_lst = [(second_np > val).sum() for val in second_lst]\n",
    "    \n",
    "    final_ranks = (1 - (np.array(first_lst) * coef_list[i] + np.array(second_lst) * (1 - coef_list[i])) / 4060).tolist()\n",
    "    first_solution_result[str(i + 1)] = final_ranks"
   ]
  },
  {
   "cell_type": "code",
   "execution_count": 20,
   "metadata": {},
   "outputs": [],
   "source": [
    "first_solution_result.to_csv('final.csv', index=False)"
   ]
  },
  {
   "cell_type": "code",
   "execution_count": null,
   "metadata": {},
   "outputs": [],
   "source": []
  }
 ],
 "metadata": {
  "kernelspec": {
   "display_name": "Python 3",
   "language": "python",
   "name": "python3"
  },
  "language_info": {
   "codemirror_mode": {
    "name": "ipython",
    "version": 3
   },
   "file_extension": ".py",
   "mimetype": "text/x-python",
   "name": "python",
   "nbconvert_exporter": "python",
   "pygments_lexer": "ipython3",
   "version": "3.6.8"
  }
 },
 "nbformat": 4,
 "nbformat_minor": 2
}
