{
 "cells": [
  {
   "cell_type": "markdown",
   "metadata": {},
   "source": [
    "# Бенчмарк\n",
    "\n",
    "Для задачи **Digital Reputation Challenge**\n",
    "\n",
    "https://boosters.pro\n",
    "\n",
    "автор: Александр Дьяконов https://dyakonov.org"
   ]
  },
  {
   "cell_type": "code",
   "execution_count": 1,
   "metadata": {},
   "outputs": [],
   "source": [
    "import numpy as np\n",
    "import pandas as pd\n",
    "import matplotlib\n",
    "import matplotlib.pyplot as plt\n",
    "%matplotlib inline"
   ]
  },
  {
   "cell_type": "markdown",
   "metadata": {},
   "source": [
    "## загрузка данных"
   ]
  },
  {
   "cell_type": "code",
   "execution_count": 2,
   "metadata": {},
   "outputs": [
    {
     "name": "stdout",
     "output_type": "stream",
     "text": [
      "(4000, 26) (462888, 2) (4000, 453) (4000, 6)\n"
     ]
    }
   ],
   "source": [
    "TRAIN_PATH = 'train/'\n",
    "X1 = pd.read_csv(TRAIN_PATH + 'X1.csv')\n",
    "X2 = pd.read_csv(TRAIN_PATH + 'X2.csv')\n",
    "X3 = pd.read_csv(TRAIN_PATH + 'X3.csv')\n",
    "Y = pd.read_csv(TRAIN_PATH + 'Y.csv')\n",
    "print (X1.shape, X2.shape, X3.shape, Y.shape)"
   ]
  },
  {
   "cell_type": "code",
   "execution_count": 3,
   "metadata": {},
   "outputs": [],
   "source": [
    "Y.columns = ['Y' + s if s != 'id' else 'id' for s in Y.columns]"
   ]
  },
  {
   "cell_type": "code",
   "execution_count": 4,
   "metadata": {},
   "outputs": [
    {
     "name": "stdout",
     "output_type": "stream",
     "text": [
      "(4058, 26) (470083, 2) (4058, 453)\n"
     ]
    }
   ],
   "source": [
    "TEST_PATH = 'test/'\n",
    "X1_test = pd.read_csv(TEST_PATH + 'X1.csv')\n",
    "X2_test = pd.read_csv(TEST_PATH + 'X2.csv')\n",
    "X3_test = pd.read_csv(TEST_PATH + 'X3.csv')\n",
    "print (X1_test.shape, X2_test.shape, X3_test.shape)"
   ]
  },
  {
   "cell_type": "markdown",
   "metadata": {},
   "source": [
    "# Подготовка обучения и теста\n",
    "\n",
    "используем только матрицу 1"
   ]
  },
  {
   "cell_type": "code",
   "execution_count": 5,
   "metadata": {},
   "outputs": [],
   "source": [
    "X = X1.copy()\n",
    "X = X.merge(Y)\n",
    "        \n",
    "id_ = X.pop('id')\n",
    "y1 = X.pop('Y1')\n",
    "y2 = X.pop('Y2')\n",
    "y3 = X.pop('Y3')\n",
    "y4 = X.pop('Y4')\n",
    "y5 = X.pop('Y5')\n",
    "\n",
    "X_test = X1_test.copy()\n",
    "id__ = X_test.pop('id')"
   ]
  },
  {
   "cell_type": "markdown",
   "metadata": {},
   "source": [
    "### Эксперименты\n",
    "\n",
    "делаются так..."
   ]
  },
  {
   "cell_type": "code",
   "execution_count": null,
   "metadata": {},
   "outputs": [],
   "source": [
    "import lightgbm as lgb\n",
    "\n",
    "param = {'n_estimators':1000, 'num_leaves':6, 'objective':'binary',\n",
    "         'learning_rate': 0.05, 'colsample_bytree': 0.75, 'subsample': 0.75,\n",
    "        'metric': 'auc'}\n",
    "         \n",
    "w = lgb.cv(param, lgb.Dataset(X, label=y1),\n",
    "           stratified=False,\n",
    "           num_boost_round=1000, nfold=4, verbose_eval=100)\n",
    "max(w['auc-mean'])"
   ]
  },
  {
   "cell_type": "code",
   "execution_count": 10,
   "metadata": {},
   "outputs": [
    {
     "data": {
      "text/plain": [
       "[<matplotlib.lines.Line2D at 0x7f5ff9b9ddd8>]"
      ]
     },
     "execution_count": 10,
     "metadata": {},
     "output_type": "execute_result"
    },
    {
     "data": {
      "image/png": "[encoded data removed]",
      "text/plain": [
       "<Figure size 432x288 with 1 Axes>"
      ]
     },
     "metadata": {
      "needs_background": "light"
     },
     "output_type": "display_data"
    }
   ],
   "source": [
    "plt.plot(w['auc-mean'])"
   ]
  },
  {
   "cell_type": "markdown",
   "metadata": {},
   "source": [
    "# Подготовка ответа"
   ]
  },
  {
   "cell_type": "code",
   "execution_count": 11,
   "metadata": {},
   "outputs": [],
   "source": [
    "a1 = 0.0\n",
    "for t in range(10):\n",
    "    model1 = lgb.LGBMClassifier(learning_rate=0.01, num_leaves=6,\n",
    "                                n_estimators=290,\n",
    "                                colsample_bytree=0.75, subsample=0.75, random_state=t)\n",
    "    model1.fit(X, y1)\n",
    "    a = model1.predict_proba(X_test)[:,1]\n",
    "    # print (a)\n",
    "    a1 += a\n",
    "a1 = a1 / 10"
   ]
  },
  {
   "cell_type": "code",
   "execution_count": 12,
   "metadata": {},
   "outputs": [],
   "source": [
    "a2 = 0.0\n",
    "for t in range(10):\n",
    "    model2 = lgb.LGBMClassifier(learning_rate=0.03, num_leaves=2,\n",
    "                          n_estimators=378,\n",
    "                          colsample_bytree=0.75, subsample=0.75, random_state=t)\n",
    "    model2.fit(X, y2)\n",
    "    a = model2.predict_proba(X_test)[:,1]\n",
    "    a2 += a\n",
    "a2 = a2 / 10"
   ]
  },
  {
   "cell_type": "code",
   "execution_count": 13,
   "metadata": {},
   "outputs": [],
   "source": [
    "a3 = 0.0\n",
    "for t in range(10):\n",
    "    model3 = lgb.LGBMClassifier(learning_rate=0.01, num_leaves=4,\n",
    "                          n_estimators=543,\n",
    "                          colsample_bytree=0.75, subsample=0.75, random_state=t)\n",
    "    model3.fit(X, y3)\n",
    "    a = model3.predict_proba(X_test)[:,1]\n",
    "    a3 += a\n",
    "a3 = a3 / 10"
   ]
  },
  {
   "cell_type": "code",
   "execution_count": 14,
   "metadata": {},
   "outputs": [],
   "source": [
    "a4 = 0.0\n",
    "for t in range(10):\n",
    "    model4 = lgb.LGBMClassifier(learning_rate=0.003, num_leaves=6,\n",
    "                          n_estimators=618,\n",
    "                          colsample_bytree=0.75, subsample=0.75, random_state=t)\n",
    "    model4.fit(X, y4)\n",
    "    a = model4.predict_proba(X_test)[:,1]\n",
    "    a4 += a\n",
    "a4 = a4 / 10"
   ]
  },
  {
   "cell_type": "code",
   "execution_count": 15,
   "metadata": {},
   "outputs": [],
   "source": [
    "a5 = 0.0\n",
    "for t in range(10):\n",
    "    model5 = lgb.LGBMClassifier(learning_rate=0.002, num_leaves=3,\n",
    "                          n_estimators=516,\n",
    "                          colsample_bytree=0.75, subsample=0.75, random_state=t)\n",
    "    model5.fit(X, y5)\n",
    "    a = model5.predict_proba(X_test)[:,1]\n",
    "    #print (a)\n",
    "    a5 += a\n",
    "a5 = a5 / 10"
   ]
  },
  {
   "cell_type": "code",
   "execution_count": 16,
   "metadata": {},
   "outputs": [
    {
     "data": {
      "text/html": [
       "<div>\n",
       "<style scoped>\n",
       "    .dataframe tbody tr th:only-of-type {\n",
       "        vertical-align: middle;\n",
       "    }\n",
       "\n",
       "    .dataframe tbody tr th {\n",
       "        vertical-align: top;\n",
       "    }\n",
       "\n",
       "    .dataframe thead th {\n",
       "        text-align: right;\n",
       "    }\n",
       "</style>\n",
       "<table border=\"1\" class=\"dataframe\">\n",
       "  <thead>\n",
       "    <tr style=\"text-align: right;\">\n",
       "      <th></th>\n",
       "      <th>id</th>\n",
       "      <th>1</th>\n",
       "      <th>2</th>\n",
       "      <th>3</th>\n",
       "      <th>4</th>\n",
       "      <th>5</th>\n",
       "    </tr>\n",
       "  </thead>\n",
       "  <tbody>\n",
       "    <tr>\n",
       "      <th>0</th>\n",
       "      <td>0</td>\n",
       "      <td>0.341597</td>\n",
       "      <td>0.336250</td>\n",
       "      <td>0.253492</td>\n",
       "      <td>0.300679</td>\n",
       "      <td>0.428683</td>\n",
       "    </tr>\n",
       "    <tr>\n",
       "      <th>1</th>\n",
       "      <td>1</td>\n",
       "      <td>0.345812</td>\n",
       "      <td>0.227194</td>\n",
       "      <td>0.300929</td>\n",
       "      <td>0.282622</td>\n",
       "      <td>0.466563</td>\n",
       "    </tr>\n",
       "    <tr>\n",
       "      <th>2</th>\n",
       "      <td>2</td>\n",
       "      <td>0.437719</td>\n",
       "      <td>0.484228</td>\n",
       "      <td>0.226082</td>\n",
       "      <td>0.307257</td>\n",
       "      <td>0.444477</td>\n",
       "    </tr>\n",
       "    <tr>\n",
       "      <th>3</th>\n",
       "      <td>4</td>\n",
       "      <td>0.322215</td>\n",
       "      <td>0.274412</td>\n",
       "      <td>0.244045</td>\n",
       "      <td>0.301236</td>\n",
       "      <td>0.394336</td>\n",
       "    </tr>\n",
       "    <tr>\n",
       "      <th>4</th>\n",
       "      <td>7</td>\n",
       "      <td>0.366907</td>\n",
       "      <td>0.253626</td>\n",
       "      <td>0.435525</td>\n",
       "      <td>0.380312</td>\n",
       "      <td>0.456793</td>\n",
       "    </tr>\n",
       "  </tbody>\n",
       "</table>\n",
       "</div>"
      ],
      "text/plain": [
       "   id         1         2         3         4         5\n",
       "0   0  0.341597  0.336250  0.253492  0.300679  0.428683\n",
       "1   1  0.345812  0.227194  0.300929  0.282622  0.466563\n",
       "2   2  0.437719  0.484228  0.226082  0.307257  0.444477\n",
       "3   4  0.322215  0.274412  0.244045  0.301236  0.394336\n",
       "4   7  0.366907  0.253626  0.435525  0.380312  0.456793"
      ]
     },
     "execution_count": 16,
     "metadata": {},
     "output_type": "execute_result"
    }
   ],
   "source": [
    "df = pd.DataFrame({'id': X1_test.id.values,\n",
    "             '1': a1,\n",
    "             '2': a2,\n",
    "             '3': a3,\n",
    "             '4': a4,\n",
    "             '5': a5})\n",
    "df.to_csv('mmp_baseline_.csv', index=False)\n",
    "df.head()"
   ]
  },
  {
   "cell_type": "code",
   "execution_count": null,
   "metadata": {},
   "outputs": [],
   "source": []
  }
 ],
 "metadata": {
  "kernelspec": {
   "display_name": "Python 3",
   "language": "python",
   "name": "python3"
  },
  "language_info": {
   "codemirror_mode": {
    "name": "ipython",
    "version": 3
   },
   "file_extension": ".py",
   "mimetype": "text/x-python",
   "name": "python",
   "nbconvert_exporter": "python",
   "pygments_lexer": "ipython3",
   "version": "3.6.8"
  }
 },
 "nbformat": 4,
 "nbformat_minor": 2
}
